{
 "cells": [
  {
   "cell_type": "markdown",
   "id": "1a19dd2c-edca-451a-9a14-cf571b0e2768",
   "metadata": {},
   "source": [
    "##ok##"
   ]
  },
  {
   "cell_type": "markdown",
   "id": "6dff1a14-b554-470f-84b7-7d22db3dc5ae",
   "metadata": {},
   "source": [
    "| Tables   |      Are      |  Cool |\n",
    "|----------|:-------------:|------:|\n",
    "| col 1 is |  left-aligned | $1600 |\n",
    "| col 2 is |    centered   |   $12 |\n",
    "| col 3 is | right-aligned |    $1 |\n"
   ]
  },
  {
   "cell_type": "code",
   "execution_count": null,
   "id": "8861faf2-55b4-4406-b379-8969fc3f34bb",
   "metadata": {},
   "outputs": [],
   "source": []
  }
 ],
 "metadata": {
  "kernelspec": {
   "display_name": "Python",
   "language": "python",
   "name": "python3"
  },
  "language_info": {
   "codemirror_mode": {
    "name": "ipython",
    "version": 3
   },
   "file_extension": ".py",
   "mimetype": "text/x-python",
   "name": "python",
   "nbconvert_exporter": "python",
   "pygments_lexer": "ipython3",
   "version": "3.8.10"
  }
 },
 "nbformat": 4,
 "nbformat_minor": 5
}
